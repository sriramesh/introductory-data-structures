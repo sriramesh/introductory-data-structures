{
 "cells": [
  {
   "cell_type": "code",
   "execution_count": 4,
   "metadata": {},
   "outputs": [],
   "source": [
    "# implement the bubblesort algorithm in Python\n",
    "\n",
    "def bubblesort(the_list):\n",
    "    \n",
    "    i = 0\n",
    "    for i in range(0, len(the_list)-1): # loop indicating number of passes of the whole list\n",
    "        for j in range(0, len(the_list)-1-i): # loop through actual list elements\n",
    "            if the_list[j] > the_list[j+1]:\n",
    "                smaller_val = the_list[j+1]\n",
    "                smaller_val_pos = j+1\n",
    "                \n",
    "                temp = the_list[j] # 3 lines of swapping code, keep old value as temp\n",
    "                the_list[j] = smaller_val # assign minval to the old value's position\n",
    "                the_list[smaller_val_pos] = temp # replace old value in minval's old position\n",
    "            else:\n",
    "                the_list[j] = the_list[j] # do not swap\n",
    "        j += 1\n",
    "    return the_list\n",
    "\n"
   ]
  },
  {
   "cell_type": "code",
   "execution_count": 5,
   "metadata": {},
   "outputs": [
    {
     "name": "stdout",
     "output_type": "stream",
     "text": [
      "original list:  [17, 85, 28, 0, 65, 23, 47, 121, 115, 136]\n",
      "bubblesort output:  [0, 17, 23, 28, 47, 65, 85, 115, 121, 136]\n",
      "yes, sorted\n",
      "original list:  [31, 121, 118, 13, 57, 10, 82, 76, 27, 139]\n",
      "bubblesort output:  [10, 13, 27, 31, 57, 76, 82, 118, 121, 139]\n",
      "yes, sorted\n",
      "original list:  [113, 128, 119, 127, 108, 111, 98, 49, 2, 22]\n",
      "bubblesort output:  [2, 22, 49, 98, 108, 111, 113, 119, 127, 128]\n",
      "yes, sorted\n",
      "original list:  [21, 139, 105, 51, 105, 16, 129, 111, 93, 93]\n",
      "bubblesort output:  [16, 21, 51, 93, 93, 105, 105, 111, 129, 139]\n",
      "yes, sorted\n",
      "original list:  [31, 52, 104, 12, 145, 9, 32, 45, 84, 136]\n",
      "bubblesort output:  [9, 12, 31, 32, 45, 52, 84, 104, 136, 145]\n",
      "yes, sorted\n"
     ]
    }
   ],
   "source": [
    "# Print the lists before and after sorting to verify that the sorting is working properly\n",
    "\n",
    "import random\n",
    "\n",
    "for _ in range(5):\n",
    "    L = []\n",
    "    for _ in range(10):\n",
    "        x = random.randint(0,150)\n",
    "        L.append(x)\n",
    "    \n",
    "    print('original list: ', L)\n",
    "    bubblesort(L)\n",
    "    print('bubblesort output: ', L)\n",
    "    \n",
    "    if sorted(L) == L:\n",
    "        print('yes, sorted')\n",
    "        \n",
    "    else:\n",
    "        print('no, not sorted')\n"
   ]
  },
  {
   "cell_type": "code",
   "execution_count": 6,
   "metadata": {},
   "outputs": [],
   "source": [
    "# the run-time complexity of the above bubblesort algo is O(n^2)\n",
    "# this is the sum of consecutive integers from 1 to n - 1, inclusive\n",
    "# this is the same as n^2 as (1 + n - 1)/2)*n = 0.5*(n^2), and we do not care about constants with large input values\n"
   ]
  }
 ],
 "metadata": {
  "kernelspec": {
   "display_name": "Python 3",
   "language": "python",
   "name": "python3"
  },
  "language_info": {
   "codemirror_mode": {
    "name": "ipython",
    "version": 3
   },
   "file_extension": ".py",
   "mimetype": "text/x-python",
   "name": "python",
   "nbconvert_exporter": "python",
   "pygments_lexer": "ipython3",
   "version": "3.7.8"
  }
 },
 "nbformat": 4,
 "nbformat_minor": 4
}
