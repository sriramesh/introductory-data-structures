{
 "cells": [
  {
   "cell_type": "code",
   "execution_count": 1,
   "metadata": {},
   "outputs": [],
   "source": [
    "# implement an algorithm that demonstrates the use of circular doubly linked lists in Python\n",
    "\n",
    "PREFIX = \"Soldier \"\n",
    "SUFFIX = \" buys the farm\"\n",
    "LAST_REMAINING = \"The last remaining soldier is \"\n",
    "\n",
    "class Soldier: # an individual soldier\n",
    "    def __init__(self, data): # where data is 1 thru n, inclusive\n",
    "        self.data = data\n",
    "        self.next = None\n",
    "        self.prev = None\n",
    "        \n",
    "    def kill(self):\n",
    "        self.prev.next = self.next # Soldier(1).next = Soldier(3) \n",
    "        self.next.prev = self.prev # Soldier(3).prev = Soldier(1)\n",
    "        \n",
    "        print(PREFIX + str(self.data) + SUFFIX)\n",
    "\n",
    "class Army: # circle of soldiers\n",
    "    \n",
    "    pointer = None\n",
    "    \n",
    "    def __init__(self, n): # create a circular dll\n",
    "        self.n = n\n",
    "        self.pointer = Soldier(n) # initialize pointer\n",
    "        curr = self.pointer\n",
    "        \n",
    "        for i in range(1, n):\n",
    "            y = Soldier(i)\n",
    "            curr.next = y\n",
    "            y.prev = curr\n",
    "            curr = curr.next\n",
    "    \n",
    "        self.pointer.prev = curr # circularity\n",
    "        curr.next = self.pointer\n",
    "    \n",
    "    def advance(self, k):\n",
    "        for counter in range(k):\n",
    "            self.pointer = self.pointer.next\n",
    "        \n",
    "    def kill_all(self, k):\n",
    "        for i in range(self.n - 1):\n",
    "            self.advance(k)\n",
    "            self.pointer.kill()\n",
    "            self.pointer = self.pointer.prev # move pointer back one\n",
    "            \n",
    "        print(LAST_REMAINING + str(self.pointer.data)) # return data of remaining soldier object\n",
    "        "
   ]
  },
  {
   "cell_type": "code",
   "execution_count": null,
   "metadata": {},
   "outputs": [],
   "source": [
    "# user interface\n",
    "\n",
    "user_n = input('Enter number n of soldiers, at least 2: \\n') # number of units (ie soldiers) in the circular DLL\n",
    "user_k = input('Enter spacing between victims, between 1 and n: \\n') # the number to count off soldiers by\n",
    "\n",
    "n = int(user_n)\n",
    "k = int(user_k)\n",
    "\n",
    "ArmyX = Army(n)\n",
    "ArmyX.kill_all(k) # starting with the last solider, count off, and kill the soldier at every k position\n",
    "# report the position of the last soldier standing in the circular DLL\n"
   ]
  },
  {
   "cell_type": "code",
   "execution_count": null,
   "metadata": {},
   "outputs": [],
   "source": []
  }
 ],
 "metadata": {
  "kernelspec": {
   "display_name": "Python 3",
   "language": "python",
   "name": "python3"
  },
  "language_info": {
   "codemirror_mode": {
    "name": "ipython",
    "version": 3
   },
   "file_extension": ".py",
   "mimetype": "text/x-python",
   "name": "python",
   "nbconvert_exporter": "python",
   "pygments_lexer": "ipython3",
   "version": "3.7.8"
  }
 },
 "nbformat": 4,
 "nbformat_minor": 4
}
