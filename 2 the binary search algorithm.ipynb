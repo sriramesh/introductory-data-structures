{
 "cells": [
  {
   "cell_type": "code",
   "execution_count": 1,
   "metadata": {},
   "outputs": [],
   "source": [
    "# write a binary search algorithm\n",
    "\n",
    "def binary_search(the_list, key, left, right):\n",
    "    if len(the_list) <= 0: # check for empty list\n",
    "        return None\n",
    "    elif key < the_list[0] or key > the_list[len(the_list)-1]: # check if key is out of list bounds\n",
    "        return None\n",
    "    elif left > right: # check if range is correct\n",
    "        return None\n",
    "    elif left == right and key != the_list[left]: # check if key cannot be found within list\n",
    "        return None\n",
    "    else:\n",
    "        midpoint = int((left + right)/2) # midpoint of this sublist, average of left and right index\n",
    "        if key == the_list[midpoint]:\n",
    "            return midpoint # key has been found at the midpoint of the list\n",
    "        elif key < the_list[midpoint]: # search left of midpoint\n",
    "            return binary_search(the_list, key, left, midpoint-1)\n",
    "        else: # search right of midpoint\n",
    "            return binary_search(the_list, key, midpoint+1, right)\n"
   ]
  },
  {
   "cell_type": "code",
   "execution_count": 2,
   "metadata": {},
   "outputs": [],
   "source": [
    "# driver code\n",
    "the_list = [27, 78, 105, 135, 411, 431, 434, 468, 493, 501, 525, 534, 551, 654, 780]\n",
    "print(binary_search(the_list, 135, 0, 14)) # shoud return 3\n",
    "print(binary_search(the_list, 135, 2, 12)) # should return 3, this is the index in original list, not the sublist\n",
    "print(binary_search(the_list, 500, 0, 14)) # should return None, 500 is not in the list\n",
    "\n",
    "the_list = [12, 179, 445, 588, 646]\n",
    "print(binary_search(the_list, 451, 0, 4)) # should return None, range is incorrect"
   ]
  },
  {
   "cell_type": "code",
   "execution_count": 3,
   "metadata": {},
   "outputs": [
    {
     "name": "stdout",
     "output_type": "stream",
     "text": [
      "Specify the number N of elements in a list that will be searched: \n",
      "5\n",
      "[6, 71, 82, 191, 813]\n",
      "Enter q, ? or a key to search the list for: \n",
      "71\n",
      "The position of your key in this list is 1 \n",
      "\n",
      "Enter q, ? or a key to search the list for: \n",
      "?\n",
      "[6, 71, 82, 191, 813] \n",
      "\n",
      "Enter q, ? or a key to search the list for: \n",
      "q\n"
     ]
    }
   ],
   "source": [
    "# create a user interface to saerch a given list using binary search\n",
    "import random\n",
    "\n",
    "# user inputs N list length\n",
    "user_N = input('Specify the number N of elements in a list that will be searched: \\n') # an integer\n",
    "N = int(user_N)\n",
    "\n",
    "# generate list using N list length\n",
    "user_list = []   \n",
    "for _ in range(N):\n",
    "    x = random.randint(0,1000)\n",
    "    user_list.append(x)\n",
    "user_list = sorted(user_list) # list of N random integers, sorted, range of 0 to 1000\n",
    "print(user_list)\n",
    "\n",
    "# validations for user input\n",
    "def evaluate_this():\n",
    "    while True:\n",
    "        user_key = input('Enter q, ? or a key to search the list for: \\n') # an integer  \n",
    "        if user_key == \"?\": # if ?, print list   \n",
    "            print(user_list, '\\n')    \n",
    "        elif user_key == \"q\": # if q, exit loop\n",
    "            break\n",
    "        else: # run binary search, assuming integer provided\n",
    "            key = int(user_key)\n",
    "            left = 0\n",
    "            right = len(user_list)-1\n",
    "            x = binary_search(user_list, key, left, right)\n",
    "            if isinstance(x, int) == True:\n",
    "                print(\"The position of your key in this list is\", x, '\\n')\n",
    "            else:\n",
    "                print(\"The key you entered is not found \\n\")\n",
    "\n",
    "evaluate_this()"
   ]
  },
  {
   "cell_type": "code",
   "execution_count": null,
   "metadata": {},
   "outputs": [],
   "source": []
  }
 ],
 "metadata": {
  "kernelspec": {
   "display_name": "Python 3",
   "language": "python",
   "name": "python3"
  },
  "language_info": {
   "codemirror_mode": {
    "name": "ipython",
    "version": 3
   },
   "file_extension": ".py",
   "mimetype": "text/x-python",
   "name": "python",
   "nbconvert_exporter": "python",
   "pygments_lexer": "ipython3",
   "version": "3.7.8"
  }
 },
 "nbformat": 4,
 "nbformat_minor": 4
}
